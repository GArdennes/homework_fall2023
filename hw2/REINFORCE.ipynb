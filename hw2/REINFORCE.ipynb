{
 "cells": [
  {
   "cell_type": "markdown",
   "metadata": {},
   "source": [
    "# REINFORCE ALGORITHM\n",
    "In this notebook, we will implement the Reinforce algorithm also known as the Monte Carlo Policy Gradient. To test its robustness, we would train it in a simple environment e.g. Cartpole-v1. The simple environment is chosen to be sure that the algorithm works before going deeper. Since finding bugs would be much easier in simple environments. This implementation is based on [Hugging Face Deep RL Course](https://huggingface.co/learn/deep-rl-course/unit4/introduction).\n"
   ]
  },
  {
   "cell_type": "markdown",
   "metadata": {},
   "source": [
    "<img src=\"https://www.researchgate.net/profile/Kan-Zheng-2/publication/334623894/figure/fig1/AS:783667001565185@1563852181878/Reinforcement-learning-process.png\" alt=\"Reinforcement Learning\"/>"
   ]
  },
  {
   "cell_type": "markdown",
   "metadata": {},
   "source": [
    "Diagram illustrating the system behind Reinforcement learning in contrast to the diagram below illustrating the policy optimization or policy-based learning."
   ]
  },
  {
   "cell_type": "markdown",
   "metadata": {},
   "source": [
    "<img src=\"https://static.packt-cdn.com/products/9781788991063/graphics/assets/e760c7dd-ebb7-4f86-80a1-99b79ca3f002.png\" alt=\"Policy-based learning\"/>"
   ]
  },
  {
   "cell_type": "markdown",
   "metadata": {},
   "source": [
    "## Introduction\n",
    "Reinforce is a Policy-based method i.e. a deep reinforcement learning algorithm that tries to optimize the policy directly without using an action-value function. More precisely, Reinforce is a Policy-gradient method, a subclass of Policy-based methods that aims to optimize the policy directly by estimating the weights of the optimal policy using gradient ascent. A policy is generated directly from the state-value function. The policy gradient algorithms search for a local maximum in the state value function by ascending the gradient of the policy w.r.t the parameters."
   ]
  },
  {
   "cell_type": "markdown",
   "metadata": {},
   "source": [
    "## The CartPole-v1 environment\n",
    "> A pole is attached by an un-actuated joint to a cart, which moves along a frictionless track. The pendulum is placed upright on the cart and the goal is to balance the pole by applying forces in the left and right direction on the cart. The goal is to push the cart left or right **so that the pole stays in the equilibruim**\n",
    "\n",
    "The episode ends if:\n",
    "- The pole Angle is greater than ±12°\n",
    "- Cart Position is greater than ±2.4\n",
    "- Episode length is greater than 500\n",
    "\n",
    "A reward of +1 is received in each timestep as long as the Pole stays in the equilibrium."
   ]
  },
  {
   "cell_type": "markdown",
   "metadata": {},
   "source": [
    "<img src=\"https://huggingface.co/datasets/huggingface-deep-rl-course/course-images/resolve/main/en/unit6/reinforce.png\" alt=\"Reinforce\"/>"
   ]
  },
  {
   "cell_type": "markdown",
   "metadata": {},
   "source": [
    "## REINFORCE ARCHITECTURE\n",
    "This is the pseudocode of the REINFORCE algorithm"
   ]
  },
  {
   "cell_type": "markdown",
   "metadata": {},
   "source": [
    "<img src=\"https://huggingface.co/datasets/huggingface-deep-rl-course/course-images/resolve/main/en/unit6/pg_pseudocode.png\" alt=\"Reinforce algorithm\"/>"
   ]
  },
  {
   "cell_type": "markdown",
   "metadata": {},
   "source": [
    "### 1. Import the necessary libraries   "
   ]
  },
  {
   "cell_type": "code",
   "execution_count": 23,
   "metadata": {},
   "outputs": [],
   "source": [
    "import gym\n",
    "import numpy as np\n",
    "from collections import deque\n",
    "import matplotlib.pyplot as plt\n",
    "%matplotlib inline\n",
    "\n",
    "import torch\n",
    "torch.manual_seed(0) # set random seed\n",
    "import torch.nn as nn\n",
    "import torch.nn.functional as F\n",
    "import torch.optim as optim\n",
    "from torch.distributions import Categorical"
   ]
  },
  {
   "cell_type": "markdown",
   "metadata": {},
   "source": [
    "### 2. Define the architecture of the policy"
   ]
  },
  {
   "cell_type": "code",
   "execution_count": 25,
   "metadata": {},
   "outputs": [
    {
     "name": "stdout",
     "output_type": "stream",
     "text": [
      "observation space: Box([-4.8000002e+00 -3.4028235e+38 -4.1887903e-01 -3.4028235e+38], [4.8000002e+00 3.4028235e+38 4.1887903e-01 3.4028235e+38], (4,), float32)\n",
      "action space: Discrete(2)\n"
     ]
    }
   ],
   "source": [
    "env = gym.make('CartPole-v1')\n",
    "env.seed(0)\n",
    "print('observation space:', env.observation_space)\n",
    "print('action space:', env.action_space)"
   ]
  },
  {
   "cell_type": "code",
   "execution_count": 26,
   "metadata": {},
   "outputs": [],
   "source": [
    "device = torch.device(\"cuda:0\" if torch.cuda.is_available() else \"cpu\")\n",
    "\n",
    "class Policy(nn.Module):\n",
    "    \"\"\"\n",
    "    Define a neural network for the policy function\n",
    "    \"\"\"\n",
    "    def __init__(self, input_size=4, hidden_size=16, output_size=2) -> None:\n",
    "        super(Policy, self).__init__()\n",
    "        self.fc1 = nn.Linear(input_size, hidden_size)\n",
    "        self.fc2 = nn.Linear(hidden_size, output_size)\n",
    "\n",
    "    def forward(self, x):\n",
    "        \"\"\"\n",
    "        Forward pass of the neural network\n",
    "        State goes to fc1 then we apply ReLU activation function\n",
    "        Then we go to fc2 and apply softmax activation function\n",
    "        \"\"\"\n",
    "        x = F.relu(self.fc1(x))\n",
    "        x = self.fc2(x)\n",
    "        return F.softmax(x, dim=1)\n",
    "    \n",
    "    def act(self, state):\n",
    "        \"\"\"\n",
    "        Given a state, choose an action based on the policy\n",
    "        \"\"\"\n",
    "        state = torch.from_numpy(state).float().unsqueeze(0).to(device)\n",
    "        probs = self.forward(state).cpu()\n",
    "        m = Categorical(probs)\n",
    "        action = m.sample() #np.argmax(m)\n",
    "        return action.item(), m.log_prob(action)"
   ]
  },
  {
   "cell_type": "markdown",
   "metadata": {},
   "source": [
    "### 3. Train the agent with REINFORCE"
   ]
  },
  {
   "cell_type": "code",
   "execution_count": 27,
   "metadata": {},
   "outputs": [
    {
     "name": "stderr",
     "output_type": "stream",
     "text": [
      "c:\\Users\\U22851217\\.conda\\envs\\cs285\\lib\\site-packages\\gym\\utils\\passive_env_checker.py:241: DeprecationWarning: `np.bool8` is a deprecated alias for `np.bool_`.  (Deprecated NumPy 1.24)\n",
      "  if not isinstance(terminated, (bool, np.bool8)):\n"
     ]
    },
    {
     "name": "stdout",
     "output_type": "stream",
     "text": [
      "Episode 100\tAverage Score: 18.54\n",
      "Episode 200\tAverage Score: 38.99\n",
      "Episode 300\tAverage Score: 54.27\n",
      "Episode 400\tAverage Score: 38.71\n",
      "Episode 500\tAverage Score: 28.64\n",
      "Episode 600\tAverage Score: 46.10\n",
      "Episode 700\tAverage Score: 41.74\n",
      "Episode 800\tAverage Score: 55.85\n",
      "Episode 900\tAverage Score: 36.50\n",
      "Episode 1000\tAverage Score: 28.86\n"
     ]
    }
   ],
   "source": [
    "policy_g = Policy().to(device) # step 1 of pseudocode: initialize policy\n",
    "optimizer = optim.Adam(policy_g.parameters(), lr=1e-2)\n",
    "\n",
    "def reinforce(n_episodes=1000, max_t=1000, gamma=0.99, print_every=100):\n",
    "    \"\"\"\n",
    "    REINFORCE algorithm based on REINFORCE Monte Carlo Policy Gradient Control (Sutton&Barto 2018, 2020 2nd draft Section 13.3)\n",
    "    \"\"\"\n",
    "    scores_deque = deque(maxlen=100)\n",
    "    scores = []\n",
    "    for i_episode in range(1, n_episodes+1): #step 2 of pseudocode: for each episode\n",
    "        saved_log_probs = []\n",
    "        rewards = []\n",
    "        state = env.reset()\n",
    "        for t in range(max_t): #step 3 of pseudocode: for each step of the episode\n",
    "            action, log_prob = policy_g.act(state) #step 3a: sample an action from the policy given the state\n",
    "            saved_log_probs.append(log_prob)\n",
    "            state, reward, done, _ = env.step(action) #step 3b: take the action and observe the next state and reward\n",
    "            rewards.append(reward)\n",
    "            if done:\n",
    "                break\n",
    "        scores_deque.append(sum(rewards))\n",
    "        scores.append(sum(rewards))\n",
    "        \n",
    "        #step 4 of pseudocode: calculate the return G_t\n",
    "        discounts = [gamma**i for i in range(len(rewards)+1)]\n",
    "        R = sum([a*b for a,b in zip(discounts, rewards)])\n",
    "        \n",
    "        #R = torch.tensor(R).to(device)\n",
    "        #R = (R - R.mean()) / (R.std() + 1e-9)\n",
    "        \n",
    "        #step 5 of pseudocode: perform a policy gradient update\n",
    "        policy_loss = []\n",
    "        for log_prob in saved_log_probs:\n",
    "            #add negative sign since we are maximizing the expected return i.e. gradient ascent\n",
    "            policy_loss.append(-log_prob * R)\n",
    "        policy_loss = torch.cat(policy_loss).sum()\n",
    "        #step 6 of pseudocode: perform a parameter update on the policy network\n",
    "        optimizer.zero_grad()\n",
    "        policy_loss.backward()\n",
    "        optimizer.step()\n",
    "\n",
    "        if i_episode % print_every == 0:\n",
    "            print('Episode {}\\tAverage Score: {:.2f}'.format(i_episode, np.mean(scores_deque)))\n",
    "  \n",
    "    return scores\n",
    "\n",
    "scores = reinforce()"
   ]
  },
  {
   "cell_type": "code",
   "execution_count": 28,
   "metadata": {},
   "outputs": [
    {
     "name": "stdout",
     "output_type": "stream",
     "text": [
      "Episode 100\tAverage Score: 64.76\n",
      "Episode 200\tAverage Score: 284.43\n",
      "Episode 300\tAverage Score: 437.18\n",
      "Episode 400\tAverage Score: 500.00\n",
      "Episode 500\tAverage Score: 500.00\n",
      "Episode 600\tAverage Score: 499.84\n",
      "Episode 700\tAverage Score: 477.85\n",
      "Episode 800\tAverage Score: 454.97\n",
      "Episode 900\tAverage Score: 489.50\n",
      "Episode 1000\tAverage Score: 452.06\n"
     ]
    }
   ],
   "source": [
    "policy_rtg = Policy().to(device) # Line 2 of the pseudocode\n",
    "optimizer = optim.Adam(policy_rtg.parameters(), lr=1e-2)\n",
    "\n",
    "def reinforce_reward2go(policy, optimizer, n_training_episodes, max_t, gamma, print_every):\n",
    "    \"\"\"\n",
    "    REINFORCE algorithm based on Monte Carlo Prediction (Sutton&Barto 2018, 2020 2nd draft Section 5.1)\n",
    "    \"\"\"\n",
    "    # Helps us to calculate the score during the training\n",
    "    scores_deque = deque(maxlen=100)\n",
    "    scores = []\n",
    "    # Line 3 of pseudocode\n",
    "    for i_episode in range(1, n_training_episodes+1):\n",
    "        saved_log_probs = []\n",
    "        rewards = []\n",
    "        state = env.reset()\n",
    "        # Line 4 and 5 of pseudocode\n",
    "        for t in range(max_t):\n",
    "            action, log_prob = policy.act(state)\n",
    "            saved_log_probs.append(log_prob)\n",
    "            state, reward, done, _ = env.step(action)\n",
    "            rewards.append(reward)\n",
    "            if done:\n",
    "                break\n",
    "        scores_deque.append(sum(rewards))\n",
    "        scores.append(sum(rewards))\n",
    "\n",
    "        # Line 6 of pseudocode: calculate the return\n",
    "        returns = deque(maxlen=max_t)\n",
    "        n_steps = len(rewards)\n",
    "        # Compute the return G_t with the rewards-to-go formulation,\n",
    "        # which is more efficient than the standard formulation\n",
    "        for t in range(n_steps)[::-1]:\n",
    "            disc_return_t = (returns[0] if len(returns)>0 else 0)\n",
    "            returns.appendleft( gamma*disc_return_t + rewards[t])\n",
    "\n",
    "        ## standardization of the returns is employed to make training more stable\n",
    "        #eps = np.finfo(np.float32).eps.item()\n",
    "        ## eps is the smallest representable float, which is\n",
    "        # added to the standard deviation of the returns to avoid numerical instabilities\n",
    "        #returns = torch.tensor(returns, requires_grad=True) \n",
    "        #returns = (returns - returns.mean()) / (returns.std() + eps)\n",
    "\n",
    "        # Line 7:\n",
    "        policy_loss = []\n",
    "        for log_prob, disc_return in zip(saved_log_probs, returns):\n",
    "            policy_loss.append(-log_prob * disc_return)\n",
    "        policy_loss = torch.cat(policy_loss).sum()\n",
    "\n",
    "        # Line 8: PyTorch prefers gradient descent\n",
    "        optimizer.zero_grad()\n",
    "        policy_loss.backward()\n",
    "        optimizer.step()\n",
    "\n",
    "        if i_episode % print_every == 0:\n",
    "            print('Episode {}\\tAverage Score: {:.2f}'.format(i_episode, np.mean(scores_deque)))\n",
    "\n",
    "    return scores\n",
    "\n",
    "scores2 = reinforce_reward2go(policy_rtg, optimizer, n_training_episodes=1000, max_t=1000, gamma=0.99, print_every=100)"
   ]
  },
  {
   "cell_type": "code",
   "execution_count": 29,
   "metadata": {},
   "outputs": [],
   "source": [
    "class StateValueNetwork(nn.Module):\n",
    "    \"\"\"\n",
    "    Define a neural network for the state-value function\n",
    "    \"\"\"\n",
    "    def __init__(self, input_size=4, hidden_size=16, output_size=1) -> None:\n",
    "        super(StateValueNetwork, self).__init__()\n",
    "        self.fc1 = nn.Linear(input_size, hidden_size)\n",
    "        self.fc2 = nn.Linear(hidden_size, output_size)\n",
    "\n",
    "    def forward(self, x):\n",
    "        \"\"\"\n",
    "        Forward pass of the neural network\n",
    "        State goes to fc1 then we apply ReLU activation function\n",
    "        Then we go to fc2\n",
    "        \"\"\"\n",
    "        x = F.relu(self.fc1(x))\n",
    "        x = self.fc2(x)\n",
    "        return x"
   ]
  },
  {
   "cell_type": "code",
   "execution_count": 38,
   "metadata": {},
   "outputs": [
    {
     "name": "stdout",
     "output_type": "stream",
     "text": [
      "Episode 0\tAverage Score: 15.00\n",
      "Episode 100\tAverage Score: 49.60\n",
      "Episode 200\tAverage Score: 356.51\n",
      "Episode 300\tAverage Score: 354.34\n",
      "Episode 400\tAverage Score: 485.66\n",
      "Episode 500\tAverage Score: 479.33\n",
      "Episode 600\tAverage Score: 408.33\n",
      "Episode 700\tAverage Score: 475.54\n",
      "Episode 800\tAverage Score: 495.28\n",
      "Episode 900\tAverage Score: 499.64\n"
     ]
    }
   ],
   "source": [
    "policy_bs = Policy().to(device) # Line 2 of the pseudocode\n",
    "policy_optimizer = optim.Adam(policy_bs.parameters(), lr=1e-2)\n",
    "\n",
    "state_fxn = StateValueNetwork().to(device)\n",
    "stateval_optimizer = optim.Adam(state_fxn.parameters(), lr=1e-2)\n",
    "\n",
    "def reinforce_baseline(n_episodes=1000, max_t=1000, gamma=0.99, print_every=100):\n",
    "    \"\"\"\n",
    "    REINFORCE algorithm with a learned baseline based on Monte Carlo Prediction (Sutton&Barto 2018, 2020 2nd draft Section 13.45.1)\n",
    "    \"\"\"\n",
    "    scores = []\n",
    "    scores_deque = deque(maxlen=100)\n",
    "\n",
    "    for episode in range(n_episodes):\n",
    "        state = env.reset()\n",
    "        trajectory = []\n",
    "        score = 0\n",
    "\n",
    "        for step in range(max_t):\n",
    "            action, log_prob = policy_bs.act(state)\n",
    "            next_state, reward, done, _ = env.step(action)\n",
    "            trajectory.append((state, action, log_prob, reward))\n",
    "            score += reward\n",
    "            if done:\n",
    "                break\n",
    "            state = next_state\n",
    "        scores.append(score)\n",
    "        scores_deque.append(score)\n",
    "\n",
    "        states = [step[0] for step in trajectory]\n",
    "        actions = [step[1] for step in trajectory]\n",
    "        log_probs = [step[2] for step in trajectory]\n",
    "        rewards = [step[3] for step in trajectory]\n",
    "\n",
    "        returns = []\n",
    "        discounted_return = 0\n",
    "        for r in reversed(rewards):\n",
    "            discounted_return = r + gamma * discounted_return\n",
    "            returns.insert(0, discounted_return)\n",
    "        returns = torch.tensor(returns).to(device)\n",
    "        #returns = (returns - returns.mean()) / (returns.std() + 1e-9)\n",
    "\n",
    "        state_values = []\n",
    "        for state in states:\n",
    "            state = torch.from_numpy(state).float().unsqueeze(0).to(device)\n",
    "            state_values.append(state_fxn(state))\n",
    "        \n",
    "        state_values = torch.cat(state_values).squeeze()\n",
    "\n",
    "        value_loss = F.mse_loss(state_values, returns)\n",
    "        stateval_optimizer.zero_grad()\n",
    "        value_loss.backward()\n",
    "        stateval_optimizer.step()\n",
    "\n",
    "        deltas = [gt - val for gt, val in zip(returns, state_values)]\n",
    "        deltas = torch.tensor(deltas).to(device)\n",
    "\n",
    "        policy_loss = []\n",
    "        for log_prob, delta in zip(log_probs, deltas):\n",
    "            policy_loss.append(-log_prob * delta)\n",
    "        policy_optimizer.zero_grad()\n",
    "        policy_loss = torch.cat(policy_loss).sum()\n",
    "        policy_loss.backward()\n",
    "        policy_optimizer.step()\n",
    "\n",
    "\n",
    "        if episode % print_every == 0:\n",
    "            print('Episode {}\\tAverage Score: {:.2f}'.format(episode, np.mean(scores_deque)))\n",
    "\n",
    "    return scores   \n",
    "\n",
    "scores3 = reinforce_baseline()\n",
    "\n",
    "        "
   ]
  },
  {
   "cell_type": "code",
   "execution_count": 31,
   "metadata": {},
   "outputs": [],
   "source": [
    "def gae(rewards, values, gamma, lambda_):\n",
    "    \"\"\"\n",
    "    Generalized Advantage Estimation (GAE) algorithm based on Generalized Advantage Estimation (Schulman et al. 2016)\n",
    "    \"\"\"\n",
    "    advantages = np.zeros(values.shape[0] + 1)\n",
    "    last_advantage = 0\n",
    "\n",
    "    last_value = values[-1]\n",
    "    for t in reversed(range(len(rewards))):\n",
    "        if t == len(rewards) - 1:\n",
    "            next_value = last_value\n",
    "        else:\n",
    "            next_value = values[t+1]\n",
    "        delta = rewards[t] + gamma * next_value - values[t]\n",
    "        last_advantage = delta + gamma * lambda_ * last_advantage\n",
    "        advantages[t] = last_advantage\n",
    "        last_value = values[t]\n",
    "\n",
    "    return advantages\n",
    "\n"
   ]
  },
  {
   "cell_type": "code",
   "execution_count": 32,
   "metadata": {},
   "outputs": [],
   "source": [
    "import numpy as np\n",
    "\n",
    "def calculate_gae(rewards, values, dones, gamma, lambda_):\n",
    "    \"\"\"\n",
    "    Calculate the Generalized Advantage Estimation (GAE).\n",
    "    \n",
    "    Args:\n",
    "    rewards (np.array): Array of rewards.\n",
    "    values (np.array): Array of value estimates.\n",
    "    next_values (np.array): Array of next state value estimates.\n",
    "    dones (np.array): Array indicating whether the episode ended.\n",
    "    gamma (float): Discount factor.\n",
    "    lambda_ (float): GAE factor.\n",
    "\n",
    "    Returns:\n",
    "    np.array: Array of advantage estimates.\n",
    "    \"\"\"\n",
    "    \n",
    "    advantages = np.zeros_like(rewards)\n",
    "    advantage = 0\n",
    "    last_value = values[-1]\n",
    "\n",
    "    for t in reversed(range(len(rewards))):\n",
    "        if t == len(rewards) - 1:\n",
    "            next_value = last_value\n",
    "        else:\n",
    "            next_value = values[t+1]\n",
    "        delta = rewards[t] + gamma * next_value * (1 - dones[t]) - values[t]\n",
    "        advantage = delta + gamma * lambda_ * advantage * (1 - dones[t])\n",
    "        advantages[t] = advantage\n",
    "    return advantages\n"
   ]
  },
  {
   "cell_type": "code",
   "execution_count": 44,
   "metadata": {},
   "outputs": [
    {
     "name": "stdout",
     "output_type": "stream",
     "text": [
      "Episode 0\tAverage Score: 11.00\n",
      "Episode 100\tAverage Score: 29.45\n",
      "Episode 200\tAverage Score: 55.50\n",
      "Episode 300\tAverage Score: 269.73\n",
      "Episode 400\tAverage Score: 483.37\n",
      "Episode 500\tAverage Score: 435.02\n",
      "Episode 600\tAverage Score: 342.93\n",
      "Episode 700\tAverage Score: 462.96\n",
      "Episode 800\tAverage Score: 496.14\n",
      "Episode 900\tAverage Score: 421.87\n"
     ]
    }
   ],
   "source": [
    "policy_gae = Policy().to(device) # Line 2 of the pseudocode\n",
    "policy_optimizer = optim.Adam(policy_gae.parameters(), lr=1e-2)\n",
    "\n",
    "state_fxn = StateValueNetwork().to(device)\n",
    "stateval_optimizer = optim.Adam(state_fxn.parameters(), lr=1e-2)\n",
    "\n",
    "def reinforce_gae(n_episodes=1000, max_t=1000, gamma=0.99, print_every=100):\n",
    "    \"\"\"\n",
    "    REINFORCE algorithm with a learned baseline based on Monte Carlo Prediction (Sutton&Barto 2018, 2020 2nd draft Section 13.45.1)\n",
    "    \"\"\"\n",
    "    scores = []\n",
    "    scores_deque = deque(maxlen=100)\n",
    "\n",
    "    for episode in range(n_episodes):\n",
    "        state = env.reset()\n",
    "        trajectory = []\n",
    "        score = 0\n",
    "\n",
    "        for step in range(max_t):\n",
    "            action, log_prob = policy_gae.act(state)\n",
    "            next_state, reward, done, _ = env.step(action)\n",
    "            trajectory.append((state, action, log_prob, reward, done))\n",
    "            score += reward\n",
    "            if done:\n",
    "                break\n",
    "            state = next_state\n",
    "        scores.append(score)\n",
    "        scores_deque.append(score)\n",
    "\n",
    "        states = [step[0] for step in trajectory]\n",
    "        actions = [step[1] for step in trajectory]\n",
    "        log_probs = [step[2] for step in trajectory]\n",
    "        rewards = [step[3] for step in trajectory]\n",
    "        dones = [step[4] for step in trajectory]\n",
    "\n",
    "        returns = []\n",
    "        discounted_return = 0\n",
    "        for r in reversed(rewards):\n",
    "            discounted_return = r + gamma * discounted_return\n",
    "            returns.insert(0, discounted_return)\n",
    "        returns = torch.tensor(returns).to(device)\n",
    "        #returns = (returns - returns.mean()) / (returns.std() + 1e-9)\n",
    "\n",
    "        state_values = []\n",
    "        for state in states:\n",
    "            state = torch.from_numpy(state).float().unsqueeze(0).to(device)\n",
    "            state_values.append(state_fxn(state))\n",
    "        \n",
    "        state_values = torch.cat(state_values).squeeze()\n",
    "\n",
    "        value_loss = F.mse_loss(state_values, returns)\n",
    "        stateval_optimizer.zero_grad()\n",
    "        value_loss.backward()\n",
    "        stateval_optimizer.step()\n",
    "\n",
    "        #advantage = gae(rewards, state_values.detach().numpy(), gamma, 1.0)\n",
    "        advantage = calculate_gae(rewards, state_values.detach().numpy(), dones, gamma, 0.99)\n",
    "        advantage = torch.tensor(advantage).to(device)\n",
    "\n",
    "        policy_loss = []\n",
    "        for log_prob, delta in zip(log_probs, advantage):\n",
    "            policy_loss.append(-log_prob * advantage)\n",
    "        policy_optimizer.zero_grad()\n",
    "        policy_loss = torch.cat(policy_loss).sum()\n",
    "        policy_loss.backward()\n",
    "        policy_optimizer.step()\n",
    "\n",
    "\n",
    "        if episode % print_every == 0:\n",
    "            print('Episode {}\\tAverage Score: {:.2f}'.format(episode, np.mean(scores_deque)))\n",
    "\n",
    "    return scores   \n",
    "\n",
    "scores4 = reinforce_gae()\n",
    "\n",
    "        "
   ]
  },
  {
   "cell_type": "markdown",
   "metadata": {},
   "source": [
    "### 4. Plot the Scores"
   ]
  },
  {
   "cell_type": "code",
   "execution_count": 45,
   "metadata": {},
   "outputs": [
    {
     "data": {
      "image/png": "[encoded data removed]",
      "text/plain": [
       "<Figure size 640x480 with 1 Axes>"
      ]
     },
     "metadata": {},
     "output_type": "display_data"
    }
   ],
   "source": [
    "fig = plt.figure()\n",
    "ax = fig.add_subplot(111)\n",
    "plt.plot(np.arange(1, len(scores)+1), scores, label='REINFORCE')\n",
    "plt.plot(np.arange(1, len(scores2)+1), scores2, label='REINFORCE reward-to-go')\n",
    "plt.plot(np.arange(1, len(scores3)+1), scores3, label='REINFORCE baseline')\n",
    "plt.plot(np.arange(1, len(scores4)+1), scores4, label='REINFORCE GAE')\n",
    "plt.ylabel('Score')\n",
    "plt.xlabel('Episode #')\n",
    "plt.legend()\n",
    "plt.show()"
   ]
  },
  {
   "cell_type": "markdown",
   "metadata": {},
   "source": [
    "### 5. Define the evaluation method"
   ]
  },
  {
   "cell_type": "code",
   "execution_count": 50,
   "metadata": {},
   "outputs": [],
   "source": [
    "def evaluate_agent(env, max_steps, policy):\n",
    "    \"\"\"\n",
    "    Evaluate the agent\n",
    "    \"\"\"\n",
    "    rewards = []\n",
    "    for episode in range(50):\n",
    "        state = env.reset()\n",
    "        rwd = []\n",
    "        for t in range(max_steps):\n",
    "            action, _ = policy.act(state)    \n",
    "            state, reward, done, _ = env.step(action)\n",
    "            rwd.append(reward)\n",
    "            if done:\n",
    "                break\n",
    "        rewards.append(sum(rwd))\n",
    "    return np.mean(rewards), np.std(rewards)"
   ]
  },
  {
   "cell_type": "code",
   "execution_count": 51,
   "metadata": {},
   "outputs": [
    {
     "name": "stdout",
     "output_type": "stream",
     "text": [
      "REINFORCE: mean=30.20, std=9.26\n",
      "REINFORCE reward-to-go: mean=445.68, std=130.92\n",
      "REINFORCE baseline: mean=500.00, std=0.00\n",
      "REINFORCE GAE: mean=494.24, std=40.32\n"
     ]
    }
   ],
   "source": [
    "agent_pg = []\n",
    "agent_rtg = []\n",
    "agent_baseline = []\n",
    "agent_gae = []\n",
    "\n",
    "agent_pg.append(evaluate_agent(env, 1000, policy_g))\n",
    "agent_rtg.append(evaluate_agent(env, 1000, policy_rtg))\n",
    "agent_baseline.append(evaluate_agent(env, 1000, policy_bs))\n",
    "agent_gae.append(evaluate_agent(env, 1000, policy_gae))\n",
    "\n",
    "print('REINFORCE: mean={:.2f}, std={:.2f}'.format(agent_pg[0][0], agent_pg[0][1]))\n",
    "print('REINFORCE reward-to-go: mean={:.2f}, std={:.2f}'.format(agent_rtg[0][0], agent_rtg[0][1]))\n",
    "print('REINFORCE baseline: mean={:.2f}, std={:.2f}'.format(agent_baseline[0][0], agent_baseline[0][1]))\n",
    "print('REINFORCE GAE: mean={:.2f}, std={:.2f}'.format(agent_gae[0][0], agent_gae[0][1]))"
   ]
  },
  {
   "cell_type": "code",
   "execution_count": 54,
   "metadata": {},
   "outputs": [
    {
     "data": {
      "text/html": [
       "<div>\n",
       "<style scoped>\n",
       "    .dataframe tbody tr th:only-of-type {\n",
       "        vertical-align: middle;\n",
       "    }\n",
       "\n",
       "    .dataframe tbody tr th {\n",
       "        vertical-align: top;\n",
       "    }\n",
       "\n",
       "    .dataframe thead th {\n",
       "        text-align: right;\n",
       "    }\n",
       "</style>\n",
       "<table border=\"1\" class=\"dataframe\">\n",
       "  <thead>\n",
       "    <tr style=\"text-align: right;\">\n",
       "      <th></th>\n",
       "      <th>REINFORCE</th>\n",
       "      <th>REINFORCE reward-to-go</th>\n",
       "      <th>REINFORCE baseline</th>\n",
       "      <th>REINFORCE GAE</th>\n",
       "    </tr>\n",
       "  </thead>\n",
       "  <tbody>\n",
       "    <tr>\n",
       "      <th>mean</th>\n",
       "      <td>30.200000</td>\n",
       "      <td>445.680000</td>\n",
       "      <td>500.0</td>\n",
       "      <td>494.24</td>\n",
       "    </tr>\n",
       "    <tr>\n",
       "      <th>std</th>\n",
       "      <td>9.264988</td>\n",
       "      <td>130.923251</td>\n",
       "      <td>0.0</td>\n",
       "      <td>40.32</td>\n",
       "    </tr>\n",
       "  </tbody>\n",
       "</table>\n",
       "</div>"
      ],
      "text/plain": [
       "      REINFORCE  REINFORCE reward-to-go  REINFORCE baseline  REINFORCE GAE\n",
       "mean  30.200000              445.680000               500.0         494.24\n",
       "std    9.264988              130.923251                 0.0          40.32"
      ]
     },
     "metadata": {},
     "output_type": "display_data"
    }
   ],
   "source": [
    "import pandas as pd\n",
    "\n",
    "data = {\n",
    "    'REINFORCE': [agent_pg[0][0], agent_pg[0][1]],\n",
    "    'REINFORCE reward-to-go': [agent_rtg[0][0], agent_rtg[0][1]],\n",
    "    'REINFORCE baseline': [agent_baseline[0][0], agent_baseline[0][1]],\n",
    "    'REINFORCE GAE': [agent_gae[0][0], agent_gae[0][1]]\n",
    "}\n",
    "\n",
    "df = pd.DataFrame(data, index=['mean', 'std'])\n",
    "\n",
    "display(df)"
   ]
  },
  {
   "cell_type": "markdown",
   "metadata": {},
   "source": [
    "### 6. Watch the Agent"
   ]
  },
  {
   "cell_type": "code",
   "execution_count": 56,
   "metadata": {},
   "outputs": [
    {
     "name": "stderr",
     "output_type": "stream",
     "text": [
      "100%|██████████| 1000/1000 [00:20<00:00, 49.32it/s]\n"
     ]
    }
   ],
   "source": [
    "# Watch REINFORCE agent\n",
    "from tqdm import tqdm\n",
    "\n",
    "env = gym.make('CartPole-v1')\n",
    "\n",
    "state = env.reset()\n",
    "for t in tqdm(range(1000)):\n",
    "    action, _ = policy_g.act(state)\n",
    "    env.render()\n",
    "    state, reward, done, _ = env.step(action)\n",
    "    if done:\n",
    "        state = env.reset()\n",
    "env.close()\n"
   ]
  },
  {
   "cell_type": "code",
   "execution_count": 57,
   "metadata": {},
   "outputs": [
    {
     "name": "stderr",
     "output_type": "stream",
     "text": [
      "100%|██████████| 1000/1000 [00:20<00:00, 48.95it/s]\n"
     ]
    }
   ],
   "source": [
    "# Watch REINFORCE with reward-to-go agent\n",
    "from tqdm import tqdm\n",
    "\n",
    "env = gym.make('CartPole-v1')\n",
    "\n",
    "state = env.reset()\n",
    "for t in tqdm(range(1000)):\n",
    "    action, _ = policy_rtg.act(state)\n",
    "    env.render()\n",
    "    state, reward, done, _ = env.step(action)\n",
    "    if done:\n",
    "        state = env.reset()\n",
    "env.close()"
   ]
  },
  {
   "cell_type": "code",
   "execution_count": 58,
   "metadata": {},
   "outputs": [
    {
     "name": "stderr",
     "output_type": "stream",
     "text": [
      "100%|██████████| 1000/1000 [00:20<00:00, 49.11it/s]\n"
     ]
    }
   ],
   "source": [
    "# Watch REINFORCE with baseline agent\n",
    "from tqdm import tqdm\n",
    "\n",
    "env = gym.make('CartPole-v1')\n",
    "\n",
    "state = env.reset()\n",
    "for t in tqdm(range(1000)):\n",
    "    action, _ = policy_bs.act(state)\n",
    "    env.render()\n",
    "    state, reward, done, _ = env.step(action)\n",
    "    if done:\n",
    "        state = env.reset()\n",
    "env.close()"
   ]
  }
 ],
 "metadata": {
  "kernelspec": {
   "display_name": "cs285",
   "language": "python",
   "name": "python3"
  },
  "language_info": {
   "codemirror_mode": {
    "name": "ipython",
    "version": 3
   },
   "file_extension": ".py",
   "mimetype": "text/x-python",
   "name": "python",
   "nbconvert_exporter": "python",
   "pygments_lexer": "ipython3",
   "version": "3.9.18"
  }
 },
 "nbformat": 4,
 "nbformat_minor": 2
}
